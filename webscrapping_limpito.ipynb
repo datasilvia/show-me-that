{
 "cells": [
  {
   "cell_type": "code",
   "execution_count": null,
   "metadata": {},
   "outputs": [],
   "source": [
    "import numpy as np\n",
    "import tensorflow as tf\n",
    "import cv2\n",
    "import requests\n",
    "import os\n",
    "from PIL import Image\n",
    "from tensorflow.keras.models import Model\n",
    "from tensorflow.keras.layers import Dense, GlobalAveragePooling2D\n",
    "from tensorflow.keras.optimizers import Adam\n",
    "import efficientnet.tfkeras as efn\n",
    "from tensorflow.keras.preprocessing.image import ImageDataGenerator\n",
    "from tensorflow.keras.models import load_model\n"
   ]
  },
  {
   "cell_type": "code",
   "execution_count": 10,
   "metadata": {},
   "outputs": [],
   "source": [
    "# Utilizando webscrapping en Unplash, descargamos una galería de imágenes de archivo de un \n",
    "# objeto determinado.\n",
    "\n",
    "def descarga_imagen(imagen):\n",
    "    # Access Key de Unsplash\n",
    "    ACCESS_KEY = \"0byE1o41WexZQJRM5Gy0N2NQIw36GLyZY6XcrUyf_M8\"\n",
    "\n",
    "    # Carpeta donde guardar las imágenes\n",
    "    output_folder = f\"./imagenes/{imagen}\"\n",
    "    os.makedirs(output_folder, exist_ok=True)\n",
    "\n",
    "    # Palabra clave para buscar imágenes\n",
    "    query = imagen  # Cambia esto por lo que necesites\n",
    "\n",
    "    # Número total de imágenes deseadas\n",
    "    total_images = 100  \n",
    "    per_page = 30  # Máximo 30 imágenes por solicitud\n",
    "    num_pages = (total_images // per_page) + 1  # Número de páginas necesarias\n",
    "\n",
    "    # Descargar imágenes de varias páginas\n",
    "    img_count = 0\n",
    "    for page in range(1, num_pages + 1):  # Hacer solicitudes desde page=1 hasta page=num_pages\n",
    "        print(f\"🔍 Descargando página {page}...\")\n",
    "\n",
    "        # URL de la API con paginación\n",
    "        url = f\"https://api.unsplash.com/search/photos?query={query}&per_page={per_page}&page={page}&client_id={ACCESS_KEY}\"\n",
    "\n",
    "        # Hacer la solicitud a la API\n",
    "        response = requests.get(url)\n",
    "\n",
    "        # Intentar convertir la respuesta a JSON\n",
    "        try:\n",
    "            data = response.json()\n",
    "        except Exception as e:\n",
    "            print(\"Error al convertir la respuesta a JSON:\", e)\n",
    "            print(\"Respuesta de la API:\", response.text)\n",
    "            exit()\n",
    "\n",
    "        # Verificar si \"results\" está en la respuesta\n",
    "        if \"results\" not in data:\n",
    "            print(\"ERROR: La API no devolvió 'results'. Esto es lo que devolvió:\")\n",
    "            print(data)  # Mostrar la respuesta completa para ver qué está pasando\n",
    "            exit()\n",
    "\n",
    "        # Si todo está bien, continuar con la descarga\n",
    "        for img in data[\"results\"]:\n",
    "            if img_count >= total_images:\n",
    "                print(\"Descarga completada.\")\n",
    "                break  # Detener si ya descargamos suficientes imágenes\n",
    "\n",
    "            img_url = img[\"urls\"][\"full\"]  # URL de la imagen en alta calidad\n",
    "            img_response = requests.get(img_url)\n",
    "\n",
    "            # Guardar la imagen\n",
    "            img_path = os.path.join(output_folder, f\"{query}_{img_count}.jpg\")\n",
    "            with open(img_path, \"wb\") as file:\n",
    "                file.write(img_response.content)\n",
    "\n",
    "            #print(f\"Imagen descargada: {img_path}\")\n",
    "            img_count += 1\n",
    "    return\n"
   ]
  },
  {
   "cell_type": "code",
   "execution_count": 34,
   "metadata": {},
   "outputs": [
    {
     "name": "stdout",
     "output_type": "stream",
     "text": [
      "🔍 Descargando página 1...\n",
      "🔍 Descargando página 2...\n",
      "🔍 Descargando página 3...\n",
      "🔍 Descargando página 4...\n",
      "Descarga completada.\n"
     ]
    }
   ],
   "source": [
    "descarga_imagen(\"dog\")"
   ]
  },
  {
   "cell_type": "code",
   "execution_count": null,
   "metadata": {},
   "outputs": [],
   "source": [
    "# Hasta aquí todo OK"
   ]
  },
  {
   "cell_type": "code",
   "execution_count": null,
   "metadata": {},
   "outputs": [],
   "source": [
    "# ENTRENANDO EL MODELO"
   ]
  },
  {
   "cell_type": "code",
   "execution_count": null,
   "metadata": {},
   "outputs": [],
   "source": [
    "import os\n",
    "import tensorflow as tf\n",
    "from tensorflow.keras.preprocessing.image import ImageDataGenerator\n",
    "from tensorflow.keras.models import Model\n",
    "from tensorflow.keras.layers import Dense, GlobalAveragePooling2D\n",
    "from tensorflow.keras.optimizers import Adam\n",
    "import numpy as np\n",
    "import matplotlib.pyplot as plt\n",
    "from sklearn.metrics import confusion_matrix, ConfusionMatrixDisplay\n"
   ]
  },
  {
   "cell_type": "code",
   "execution_count": 35,
   "metadata": {},
   "outputs": [
    {
     "name": "stdout",
     "output_type": "stream",
     "text": [
      "Found 300 images belonging to 3 classes.\n",
      "Found 63 images belonging to 3 classes.\n",
      "Epoch 1/3\n",
      "\u001b[1m10/10\u001b[0m \u001b[32m━━━━━━━━━━━━━━━━━━━━\u001b[0m\u001b[37m\u001b[0m \u001b[1m689s\u001b[0m 49s/step - accuracy: 0.4315 - loss: 1.0395 - val_accuracy: 0.3333 - val_loss: 1.1294\n",
      "Epoch 2/3\n",
      "\u001b[1m10/10\u001b[0m \u001b[32m━━━━━━━━━━━━━━━━━━━━\u001b[0m\u001b[37m\u001b[0m \u001b[1m383s\u001b[0m 39s/step - accuracy: 0.8350 - loss: 0.6529 - val_accuracy: 0.3333 - val_loss: 1.1961\n",
      "Epoch 3/3\n",
      "\u001b[1m 8/10\u001b[0m \u001b[32m━━━━━━━━━━━━━━━━\u001b[0m\u001b[37m━━━━\u001b[0m \u001b[1m1:04\u001b[0m 32s/step - accuracy: 0.9195 - loss: 0.4281"
     ]
    }
   ],
   "source": [
    "# Cargar el modelo base\n",
    "base_model = tf.keras.applications.EfficientNetB0(weights='imagenet', include_top=False)\n",
    "\n",
    "x = base_model.output\n",
    "x = GlobalAveragePooling2D()(x)\n",
    "predictions = Dense(3, activation='softmax')(x)  # Usamos a softmax para multiclase, 3 es el número de clases\n",
    "\n",
    "model = Model(inputs=base_model.input, outputs=predictions)\n",
    "\n",
    "# Congelar/descongelar capas según se necesite\n",
    "for layer in model.layers[-20:]:\n",
    "    layer.trainable = True\n",
    "\n",
    "# Compilar el modelo para multiclase\n",
    "model.compile(optimizer=Adam(learning_rate=1e-4),\n",
    "              loss='categorical_crossentropy',\n",
    "              metrics=['accuracy'])\n",
    "\n",
    "# Directorios de datos\n",
    "base_dir = './imagenes'\n",
    "\n",
    "# Configuración del aumento de datos\n",
    "datagen = ImageDataGenerator(\n",
    "    rescale=1./255,\n",
    "    rotation_range=60,\n",
    "    width_shift_range=0.3,\n",
    "    height_shift_range=0.3,\n",
    "    shear_range=0.3,\n",
    "    zoom_range=0.3,\n",
    "    horizontal_flip=True,\n",
    "    fill_mode='nearest'\n",
    ")\n",
    "\n",
    "# Generadores para train y validation\n",
    "train_generator = datagen.flow_from_directory(\n",
    "    directory=os.path.join(base_dir, 'train'),\n",
    "    target_size=(224, 224),\n",
    "    batch_size=32,\n",
    "    class_mode='categorical'  # Cambiamos a 'categorical' para multiclase\n",
    ")\n",
    "\n",
    "validation_generator = datagen.flow_from_directory(\n",
    "    directory=os.path.join(base_dir, 'validation'),\n",
    "    target_size=(224, 224),\n",
    "    batch_size=32,\n",
    "    class_mode='categorical'  # Cambiamos a 'categorical' para multiclase\n",
    ")\n",
    "\n",
    "# Entrenar el modelo\n",
    "model.fit(\n",
    "    train_generator,\n",
    "    epochs=3,  \n",
    "    validation_data=validation_generator\n",
    ")\n",
    "\n",
    "model.save('my_model.keras')"
   ]
  },
  {
   "cell_type": "code",
   "execution_count": 36,
   "metadata": {},
   "outputs": [
    {
     "name": "stdout",
     "output_type": "stream",
     "text": [
      "Accuracy final de entrenamiento: 0.5600\n",
      "Accuracy final de validación: 0.5000\n",
      "Loss final de entrenamiento: 0.7044\n",
      "Loss final de validación: 0.6962\n",
      "\u001b[1m2/2\u001b[0m \u001b[32m━━━━━━━━━━━━━━━━━━━━\u001b[0m\u001b[37m\u001b[0m \u001b[1m87s\u001b[0m 37s/step\n"
     ]
    },
    {
     "data": {
      "image/png": "[encoded data removed]",
      "text/plain": [
       "<Figure size 640x480 with 2 Axes>"
      ]
     },
     "metadata": {},
     "output_type": "display_data"
    }
   ],
   "source": [
    "# Imprimir la última métrica de cada tipo al finalizar el entrenamiento\n",
    "final_accuracy = history.history['accuracy'][-1]\n",
    "final_val_accuracy = history.history['val_accuracy'][-1]\n",
    "final_loss = history.history['loss'][-1]\n",
    "final_val_loss = history.history['val_loss'][-1]\n",
    "\n",
    "print(f\"Accuracy final de entrenamiento: {final_accuracy:.4f}\")\n",
    "print(f\"Accuracy final de validación: {final_val_accuracy:.4f}\")\n",
    "print(f\"Loss final de entrenamiento: {final_loss:.4f}\")\n",
    "print(f\"Loss final de validación: {final_val_loss:.4f}\")\n",
    "\n",
    "# Predicción\n",
    "validation_generator.reset()  # Asegúrate de que el generador esté en el estado inicial\n",
    "predictions = model.predict(validation_generator)\n",
    "predicted_classes = np.argmax(predictions, axis=1)\n",
    "\n",
    "# Etiquetas verdaderas\n",
    "true_classes = validation_generator.classes\n",
    "\n",
    "# Nombres de las clases\n",
    "class_labels = list(validation_generator.class_indices.keys())\n",
    "\n",
    "# Calcular la matriz de confusión\n",
    "cm = confusion_matrix(true_classes, predicted_classes)\n",
    "disp = ConfusionMatrixDisplay(confusion_matrix=cm, display_labels=class_labels)\n",
    "\n",
    "# Visualizar la matriz de confusión\n",
    "disp.plot(cmap=plt.cm.Blues)\n",
    "plt.title('Matriz de Confusión')\n",
    "plt.show()"
   ]
  },
  {
   "cell_type": "code",
   "execution_count": null,
   "metadata": {},
   "outputs": [
    {
     "name": "stdout",
     "output_type": "stream",
     "text": [
      "\u001b[1m1/1\u001b[0m \u001b[32m━━━━━━━━━━━━━━━━━━━━\u001b[0m\u001b[37m\u001b[0m \u001b[1m10s\u001b[0m 10s/step\n",
      "La imagen pertenece a la clase: cheeseburger\n"
     ]
    }
   ],
   "source": [
    "from tensorflow.keras.preprocessing import image\n",
    "from tensorflow.keras.models import load_model\n",
    "\n",
    "# Carga el modelo entrenado\n",
    "model = load_model('my_model.keras')\n",
    "\n",
    "def preprocess_image(img_path, target_size=(224, 224)):\n",
    "    # Carga la imagen y redimensiona\n",
    "    img = image.load_img(img_path, target_size=target_size)\n",
    "    # Convierte la imagen a array\n",
    "    img_array = image.img_to_array(img)\n",
    "    # Expande las dimensiones para que sea compatible con el modelo\n",
    "    img_array = np.expand_dims(img_array, axis=0)\n",
    "    # Normaliza la imagen\n",
    "    img_array /= 255.0\n",
    "    return img_array\n",
    "\n",
    "def predict_image(model, img_path):\n",
    "    # Preprocesa la imagen\n",
    "    img_array = preprocess_image(img_path)\n",
    "    # Realiza la predicción\n",
    "    prediction = model.predict(img_array)\n",
    "    # Devuelve la clase con mayor probabilidad\n",
    "    predicted_class = np.argmax(prediction, axis=1)[0]\n",
    "    return predicted_class\n"
   ]
  },
  {
   "cell_type": "code",
   "execution_count": 41,
   "metadata": {},
   "outputs": [
    {
     "name": "stdout",
     "output_type": "stream",
     "text": [
      "\u001b[1m1/1\u001b[0m \u001b[32m━━━━━━━━━━━━━━━━━━━━\u001b[0m\u001b[37m\u001b[0m \u001b[1m0s\u001b[0m 302ms/step\n",
      "La imagen pertenece a la clase: cheeseburger\n"
     ]
    }
   ],
   "source": [
    "\n",
    "# Ruta de tu imagen\n",
    "img_path = 'imagenes/dog_23.jpg'\n",
    "\n",
    "# Realizar la predicción\n",
    "predicted_class_index = predict_image(model, img_path)\n",
    "class_labels = ['cheeseburger', 'apple', 'dog']  # Asegúrate de que se alineen con tus clases\n",
    "\n",
    "print(f\"La imagen pertenece a la clase: {class_labels[predicted_class_index]}\")"
   ]
  },
  {
   "cell_type": "code",
   "execution_count": 22,
   "metadata": {},
   "outputs": [],
   "source": [
    "def predict_image(frame):\n",
    "    # Cargar las etiquetas desde la URL proporcionada\n",
    "    labels_url = 'https://storage.googleapis.com/download.tensorflow.org/data/ImageNetLabels.txt'\n",
    "    response = requests.get(labels_url)\n",
    "    labels = response.text.splitlines()\n",
    "\n",
    "    num_classes = len(labels)  # Aquí asumimos que hay tantas clases como etiquetas\n",
    "\n",
    "    # Cargar el modelo base y añadir capas específicas de ajuste fino\n",
    "    base_model = efn.EfficientNetB0(weights='imagenet', include_top=False)\n",
    "    x = base_model.output\n",
    "    x = GlobalAveragePooling2D()(x)\n",
    "    x = Dense(1024, activation='relu')(x)\n",
    "    predictions_layer = Dense(num_classes, activation='softmax')(x)\n",
    "\n",
    "    model = Model(inputs=base_model.input, outputs=predictions_layer)\n",
    "\n",
    "    # Congelar las capas base del modelo para entrenar solo las nuevas\n",
    "    for layer in base_model.layers:\n",
    "        layer.trainable = False\n",
    "\n",
    "    model.compile(optimizer=Adam(), loss='categorical_crossentropy', metrics=['accuracy'])\n",
    "\n",
    "    # Redimensionar y preprocesar el frame de entrada\n",
    "    frame = cv2.resize(frame, (224, 224))\n",
    "    cv2.imshow('image',frame)\n",
    "    cv2.waitKey(0)\n",
    "\n",
    "    frame_array = np.array(frame) / 255.0\n",
    "    frame_array = np.expand_dims(frame_array, axis=0)\n",
    "\n",
    "    # Realizar la predicción\n",
    "    prediction_probs = model.predict(frame_array)\n",
    "    predicted_index = np.argmax(prediction_probs)\n",
    "    predicted_label = labels[predicted_index]\n",
    "\n",
    "    return predicted_label"
   ]
  },
  {
   "cell_type": "code",
   "execution_count": null,
   "metadata": {},
   "outputs": [],
   "source": [
    "\n",
    "# Pasamos la imagen por el modelo y guardamos en otra carpeta las que detecta correctamente:\n",
    "\n",
    "def detecta_imagen(imagen):\n",
    "    \n",
    "    img_count = 0\n",
    "    folder_path = f\"./imagenes/{imagen}\"\n",
    "    #folder_path = os.path.join(\".\", \"imagenes\", imagen)  \n",
    "\n",
    "    # Iterar sobre cada archivo en la carpeta\n",
    "    for filename in os.listdir(folder_path):\n",
    "        if filename.endswith(('.png', '.jpg', '.jpeg', '.bmp', '.gif')):  # Filtra solo archivos de imagen\n",
    "            file_path = os.path.join(folder_path, filename)  # Construye la ruta completa al archivo\n",
    "            try:\n",
    "                with Image.open(file_path) as img:  # Abre la imagen\n",
    "                    img_resized = cv2.resize(img, (224, 224)) #Adaptamos la imagen al tamaño que lee bien el modelo.\n",
    "                    img_array = tf.keras.applications.mobilenet_v2.preprocess_input(img_resized[np.newaxis, ...])\n",
    "                    prediction = predict_image(img_array)\n",
    "                    if prediction == imagen: # Guarda la imagen verificada en otra carpeta:\n",
    "                        # Guardar la imagen\n",
    "                        img_count += 1\n",
    "                        output_folder = f\"./imagenes/{imagen}_verificada\"\n",
    "                        img_path = os.path.join(output_folder, f\"{imagen}_{img_count}.jpg\")\n",
    "                        with open(img_path, \"wb\") as file:\n",
    "                            file.write(img_response.content)           \n",
    "                    else:\n",
    "                        print(\"No estoy seguro de qué estás haciendo. Intentemos otra vez.\")\n",
    "            except Exception as e:\n",
    "                print(f\"No se pudo procesar {filename}. Error: {e}\")\n",
    "    print(f\"{img_count} imágenes procesadas correctamente\")\n",
    "    return"
   ]
  },
  {
   "cell_type": "code",
   "execution_count": null,
   "metadata": {},
   "outputs": [],
   "source": [
    "img_count = 0\n",
    "folder_path = f\"./imagenes/cheeseburger\"\n",
    "#folder_path = os.path.join(\".\", \"imagenes\", imagen)  \n",
    "\n",
    "# Iterar sobre cada archivo en la carpeta\n",
    "for filename in os.listdir(folder_path):\n",
    "    if filename.endswith(('.png', '.jpg', '.jpeg', '.bmp', '.gif')):  # Filtra solo archivos de imagen\n",
    "        file_path = os.path.join(folder_path, filename)  # Construye la ruta completa al archivo\n",
    "        img = cv2.imread(file_path)\n",
    "        try:\n",
    "            img_resized = cv2.resize(img, (224, 224)) #Adaptamos la imagen al tamaño que lee bien el modelo.\n",
    "            img_array = tf.keras.applications.mobilenet_v2.preprocess_input(img_resized[np.newaxis, ...])\n",
    "            prediction = predict_image(img_array)\n",
    "            if prediction == \"cheeseburger\": # Guarda la imagen verificada en otra carpeta:\n",
    "                # Guardar la imagen\n",
    "                img_count += 1\n",
    "                output_folder = f\"./imagenes/cheeseburger_verificada\"\n",
    "                img_path = os.path.join(output_folder, f\"cheeseburger_{img_count}.jpg\")\n",
    "                with open(img_path, \"wb\") as file:\n",
    "                    file.write(img_response.content)           \n",
    "            else:\n",
    "                print(\"No estoy seguro de qué estás haciendo. Intentemos otra vez.\")\n",
    "        except Exception as e:\n",
    "            print(f\"No se pudo procesar {filename}. Error: {e}\")\n",
    "print(f\"{img_count} imágenes procesadas correctamente\")"
   ]
  },
  {
   "cell_type": "code",
   "execution_count": null,
   "metadata": {},
   "outputs": [
    {
     "name": "stdout",
     "output_type": "stream",
     "text": [
      "Found 200 images belonging to 2 classes.\n",
      "Found 42 images belonging to 2 classes.\n"
     ]
    },
    {
     "name": "stderr",
     "output_type": "stream",
     "text": [
      "c:\\Users\\Usuario\\AppData\\Local\\Programs\\Python\\Python312\\Lib\\site-packages\\keras\\src\\trainers\\data_adapters\\py_dataset_adapter.py:121: UserWarning: Your `PyDataset` class should call `super().__init__(**kwargs)` in its constructor. `**kwargs` can include `workers`, `use_multiprocessing`, `max_queue_size`. Do not pass these arguments to `fit()`, as they will be ignored.\n",
      "  self._warn_if_super_not_called()\n"
     ]
    },
    {
     "name": "stdout",
     "output_type": "stream",
     "text": [
      "Epoch 1/3\n",
      "\u001b[1m7/7\u001b[0m \u001b[32m━━━━━━━━━━━━━━━━━━━━\u001b[0m\u001b[37m\u001b[0m \u001b[1m387s\u001b[0m 47s/step - accuracy: 0.4259 - loss: 0.7293 - val_accuracy: 0.5000 - val_loss: 0.6962\n",
      "Epoch 2/3\n",
      "\u001b[1m7/7\u001b[0m \u001b[32m━━━━━━━━━━━━━━━━━━━━\u001b[0m\u001b[37m\u001b[0m \u001b[1m243s\u001b[0m 39s/step - accuracy: 0.4719 - loss: 0.7079 - val_accuracy: 0.5000 - val_loss: 0.6959\n",
      "Epoch 3/3\n",
      "\u001b[1m7/7\u001b[0m \u001b[32m━━━━━━━━━━━━━━━━━━━━\u001b[0m\u001b[37m\u001b[0m \u001b[1m242s\u001b[0m 36s/step - accuracy: 0.5740 - loss: 0.7033 - val_accuracy: 0.5000 - val_loss: 0.6962\n"
     ]
    }
   ],
   "source": [
    "# Cargar el modelo guardado\n",
    "model = load_model('my_model.keras')\n",
    "\n",
    "# Entrenar el modelo\n",
    "history = model.fit(\n",
    "    train_generator,\n",
    "    epochs=3,  # Ajusta según necesites\n",
    "    validation_data=validation_generator\n",
    ")\n",
    "model.save('my_model.keras')"
   ]
  },
  {
   "cell_type": "code",
   "execution_count": null,
   "metadata": {},
   "outputs": [],
   "source": [
    "# Generar predicciones para el conjunto de validación\n",
    "validation_generator.reset()  # Reiniciar el generador\n",
    "predictions = model.predict(validation_generator)\n",
    "predicted_classes = np.where(predictions > 0.5, 1, 0)  # Convertir probabilidades en clases, umbral 0.5\n",
    "\n",
    "# Etiquetas verdaderas\n",
    "true_classes = validation_generator.classes\n",
    "\n",
    "# Nombres de las clases\n",
    "class_labels = list(validation_generator.class_indices.keys())\n",
    "\n",
    "# Matriz de confusión\n",
    "cm = confusion_matrix(true_classes, predicted_classes)\n",
    "disp = ConfusionMatrixDisplay(confusion_matrix=cm, display_labels=class_labels)\n",
    "\n",
    "# Mostrar la matriz de confusión\n",
    "disp.plot(cmap=plt.cm.Blues)\n",
    "plt.title('Matriz de Confusión')\n",
    "plt.show()"
   ]
  },
  {
   "cell_type": "code",
   "execution_count": 24,
   "metadata": {},
   "outputs": [
    {
     "name": "stdout",
     "output_type": "stream",
     "text": [
      "\u001b[1m1/1\u001b[0m \u001b[32m━━━━━━━━━━━━━━━━━━━━\u001b[0m\u001b[37m\u001b[0m \u001b[1m10s\u001b[0m 10s/step\n",
      "brass\n"
     ]
    }
   ],
   "source": [
    "\n",
    "image_path = os.path.join('.','imagenes/cheeseburger','cheeseburger_4.jpg')\n",
    "frame = cv2.imread(image_path)\n",
    "\n",
    "prediction = predict_image(frame)\n",
    "print(prediction)\n",
    "\n"
   ]
  },
  {
   "cell_type": "code",
   "execution_count": null,
   "metadata": {},
   "outputs": [
    {
     "ename": "FileNotFoundError",
     "evalue": "[WinError 3] El sistema no puede encontrar la ruta especificada: '.\\\\imagenes\\\\cheeseburguer'",
     "output_type": "error",
     "traceback": [
      "\u001b[1;31m---------------------------------------------------------------------------\u001b[0m",
      "\u001b[1;31mFileNotFoundError\u001b[0m                         Traceback (most recent call last)",
      "Cell \u001b[1;32mIn[14], line 1\u001b[0m\n\u001b[1;32m----> 1\u001b[0m \u001b[43mdetecta_imagen\u001b[49m\u001b[43m(\u001b[49m\u001b[38;5;124;43m\"\u001b[39;49m\u001b[38;5;124;43mcheeseburguer\u001b[39;49m\u001b[38;5;124;43m\"\u001b[39;49m\u001b[43m)\u001b[49m\n",
      "Cell \u001b[1;32mIn[13], line 9\u001b[0m, in \u001b[0;36mdetecta_imagen\u001b[1;34m(imagen)\u001b[0m\n\u001b[0;32m      6\u001b[0m folder_path \u001b[38;5;241m=\u001b[39m os\u001b[38;5;241m.\u001b[39mpath\u001b[38;5;241m.\u001b[39mjoin(\u001b[38;5;124m\"\u001b[39m\u001b[38;5;124m.\u001b[39m\u001b[38;5;124m\"\u001b[39m, \u001b[38;5;124m\"\u001b[39m\u001b[38;5;124mimagenes\u001b[39m\u001b[38;5;124m\"\u001b[39m, imagen)  \n\u001b[0;32m      8\u001b[0m \u001b[38;5;66;03m# Iterar sobre cada archivo en la carpeta\u001b[39;00m\n\u001b[1;32m----> 9\u001b[0m \u001b[38;5;28;01mfor\u001b[39;00m filename \u001b[38;5;129;01min\u001b[39;00m \u001b[43mos\u001b[49m\u001b[38;5;241;43m.\u001b[39;49m\u001b[43mlistdir\u001b[49m\u001b[43m(\u001b[49m\u001b[43mfolder_path\u001b[49m\u001b[43m)\u001b[49m:\n\u001b[0;32m     10\u001b[0m     \u001b[38;5;28;01mif\u001b[39;00m filename\u001b[38;5;241m.\u001b[39mendswith((\u001b[38;5;124m'\u001b[39m\u001b[38;5;124m.png\u001b[39m\u001b[38;5;124m'\u001b[39m, \u001b[38;5;124m'\u001b[39m\u001b[38;5;124m.jpg\u001b[39m\u001b[38;5;124m'\u001b[39m, \u001b[38;5;124m'\u001b[39m\u001b[38;5;124m.jpeg\u001b[39m\u001b[38;5;124m'\u001b[39m, \u001b[38;5;124m'\u001b[39m\u001b[38;5;124m.bmp\u001b[39m\u001b[38;5;124m'\u001b[39m, \u001b[38;5;124m'\u001b[39m\u001b[38;5;124m.gif\u001b[39m\u001b[38;5;124m'\u001b[39m)):  \u001b[38;5;66;03m# Filtra solo archivos de imagen\u001b[39;00m\n\u001b[0;32m     11\u001b[0m         file_path \u001b[38;5;241m=\u001b[39m os\u001b[38;5;241m.\u001b[39mpath\u001b[38;5;241m.\u001b[39mjoin(folder_path, filename)  \u001b[38;5;66;03m# Construye la ruta completa al archivo\u001b[39;00m\n",
      "\u001b[1;31mFileNotFoundError\u001b[0m: [WinError 3] El sistema no puede encontrar la ruta especificada: '.\\\\imagenes\\\\cheeseburguer'"
     ]
    }
   ],
   "source": [
    "detecta_imagen(\"cheeseburguer\")"
   ]
  }
 ],
 "metadata": {
  "kernelspec": {
   "display_name": "Python 3",
   "language": "python",
   "name": "python3"
  },
  "language_info": {
   "codemirror_mode": {
    "name": "ipython",
    "version": 3
   },
   "file_extension": ".py",
   "mimetype": "text/x-python",
   "name": "python",
   "nbconvert_exporter": "python",
   "pygments_lexer": "ipython3",
   "version": "3.12.9"
  }
 },
 "nbformat": 4,
 "nbformat_minor": 2
}
