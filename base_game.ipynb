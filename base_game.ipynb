{
 "cells": [
  {
   "cell_type": "code",
   "execution_count": 5,
   "metadata": {},
   "outputs": [],
   "source": [
    "### IMPORTAMOS CÓDIGO PARA LAS PREGUNTAS DE TRIVIA\n",
    "import requests\n",
    "import html\n",
    "import random\n",
    "import sys\n",
    "import time\n",
    "\n",
    "from utiles.functions import get_session_token, reset_session_token, get_random_category_id, get_trivia_question, objeto_a_cat, new_question\n",
    "\n",
    "### IMPORTAMOS CÓDIGO PARA LA DETECCIÓN DE IMAGEN\n",
    "import cv2\n",
    "import torch\n",
    "import numpy as np\n",
    "\n",
    "from utiles.functions import detectar_objeto, detectar_objeto_camara, detectar_objeto_imagen, ingresar_objeto_manual, predicted_object\n",
    "\n",
    "#### IMPORTAMOS CÓDIGO DEL JUEGO ###\n",
    "\n",
    "from IPython.display import Image, display\n",
    "import random\n",
    "\n",
    "from utiles.functions import linebreak, show_image, initial_settings, play_room, explore_room, examine_item, pet_friendly, start_game, get_next_room_of_door, final_test, end_game"
   ]
  },
  {
   "cell_type": "code",
   "execution_count": null,
   "metadata": {},
   "outputs": [],
   "source": [
    "game_state = initial_settings()"
   ]
  },
  {
   "cell_type": "code",
   "execution_count": null,
   "metadata": {},
   "outputs": [],
   "source": [
    "start_game(game_state)"
   ]
  }
 ],
 "metadata": {
  "kernelspec": {
   "display_name": "Python 3",
   "language": "python",
   "name": "python3"
  },
  "language_info": {
   "codemirror_mode": {
    "name": "ipython",
    "version": 3
   },
   "file_extension": ".py",
   "mimetype": "text/x-python",
   "name": "python",
   "nbconvert_exporter": "python",
   "pygments_lexer": "ipython3",
   "version": "3.12.9"
  }
 },
 "nbformat": 4,
 "nbformat_minor": 2
}
